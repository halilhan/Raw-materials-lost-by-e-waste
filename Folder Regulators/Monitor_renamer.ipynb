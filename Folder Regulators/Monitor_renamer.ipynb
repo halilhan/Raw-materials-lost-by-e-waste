{
 "cells": [
  {
   "cell_type": "code",
   "execution_count": 1,
   "metadata": {},
   "outputs": [],
   "source": [
    "import os\n",
    "import pandas as pd"
   ]
  },
  {
   "cell_type": "code",
   "execution_count": 2,
   "metadata": {},
   "outputs": [
    {
     "name": "stdout",
     "output_type": "stream",
     "text": [
      "/Users/yavuzhan/Desktop/Master/Crowdsourcing and AI/E-waste/data/laptop\n"
     ]
    }
   ],
   "source": [
    "print(os.getcwd())"
   ]
  },
  {
   "cell_type": "code",
   "execution_count": null,
   "metadata": {},
   "outputs": [],
   "source": [
    "# we had only numbers on the files. \n",
    "# with this function, we changed the numbers as the name of the picture. \n",
    "\n",
    "for count, f in enumerate(os.listdir()):\n",
    "    f_name, f_text = os.path.splitext(f)\n",
    "    f_name = 'monitor' + str(count)\n",
    "    \n",
    "    new_name = f'{f_name}{f_text}'\n",
    "    os.rename(f,new_name)"
   ]
  },
  {
   "cell_type": "code",
   "execution_count": null,
   "metadata": {},
   "outputs": [],
   "source": [
    "# It enables to remove all the files contains some specific names on them. \n",
    "# Instead to clean manually, it helps to clean directly.\n",
    "from glob import glob\n",
    "\n",
    "for file in glob(\"*.txt\", recursive=True):\n",
    "    os.remove(file)"
   ]
  }
 ],
 "metadata": {
  "kernelspec": {
   "display_name": "Python 3.8.8 ('base')",
   "language": "python",
   "name": "python3"
  },
  "language_info": {
   "codemirror_mode": {
    "name": "ipython",
    "version": 3
   },
   "file_extension": ".py",
   "mimetype": "text/x-python",
   "name": "python",
   "nbconvert_exporter": "python",
   "pygments_lexer": "ipython3",
   "version": "3.8.8"
  },
  "orig_nbformat": 4,
  "vscode": {
   "interpreter": {
    "hash": "73df3d2a648ddfe6e132dd0b2981f8c5ee01eb57f65aaa52301d101a94b0ebb5"
   }
  }
 },
 "nbformat": 4,
 "nbformat_minor": 2
}
